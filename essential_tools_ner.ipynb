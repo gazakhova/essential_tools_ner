{
 "cells": [
  {
   "cell_type": "markdown",
   "metadata": {},
   "source": [
    "### Importing required modules"
   ]
  },
  {
   "cell_type": "code",
   "execution_count": 1,
   "metadata": {},
   "outputs": [],
   "source": [
    "# Import requests\n",
    "import requests\n",
    "\n",
    "# Import BeautifulSoup\n",
    "from bs4 import BeautifulSoup\n",
    "\n",
    "# Import NLTK module\n",
    "import nltk\n",
    "\n",
    "# Import word_tokenize \n",
    "from nltk.tokenize import word_tokenize\n",
    "\n",
    "# Import POS tagger\n",
    "from nltk.tag import pos_tag\n",
    "\n",
    "# Import spacy\n",
    "import spacy\n",
    "from spacy import displacy\n",
    "\n",
    "# Import pretrained models\n",
    "import en_core_web_sm"
   ]
  },
  {
   "cell_type": "markdown",
   "metadata": {},
   "source": [
    "### Obtaining text from a website"
   ]
  },
  {
   "cell_type": "code",
   "execution_count": 2,
   "metadata": {},
   "outputs": [],
   "source": [
    "# send a request to the website\n",
    "page = requests.get(\"https://en.wikipedia.org/wiki/Natural_Language_Toolkit\")\n",
    "\n",
    "# Use BeautifulSoup to parse HTML using html5 protocol. It is slower\n",
    "# but more efficient \n",
    "page_content = BeautifulSoup(page.text, \"html5lib\")\n",
    "\n",
    "# Now we look for the paragraphs\n",
    "textContent = []\n",
    "for i in range(0, 3):\n",
    "    paragraphs = page_content.find_all(\"p\")[i].text\n",
    "    textContent.append(paragraphs)\n",
    "\n",
    "# Join the paragraphs together and replace the `\\n` for empty strings\n",
    "wiki_nltk = \" \".join(textContent).replace(\"\\n\", \"\")"
   ]
  },
  {
   "cell_type": "code",
   "execution_count": 3,
   "metadata": {},
   "outputs": [
    {
     "data": {
      "text/plain": [
       "' The Natural Language Toolkit, or more commonly NLTK, is a suite of libraries and programs for symbolic and statistical natural language processing (NLP) for English written in the Python programming language. It was developed by Steven Bird and Edward Loper in the Department of Computer and Information Science at the University of Pennsylvania.[5] NLTK includes graphical demonstrations and sample data. It is accompanied by a book that explains the underlying concepts behind the language processing tasks supported by the toolkit,[6] plus a cookbook.[7] NLTK is intended to support research and teaching in NLP or closely related areas, including empirical linguistics, cognitive science, artificial intelligence, information retrieval, and machine learning.[8]NLTK has been used successfully as a teaching tool, as an individual study tool, and as a platform for prototyping and building research systems. There are 32 universities in the US and 25 countries using NLTK in their courses. NLTK supports classification, tokenization, stemming, tagging, parsing, and semantic reasoning functionalities.[9]'"
      ]
     },
     "execution_count": 3,
     "metadata": {},
     "output_type": "execute_result"
    }
   ],
   "source": [
    "wiki_nltk"
   ]
  },
  {
   "cell_type": "markdown",
   "metadata": {},
   "source": [
    "### NTLK in action"
   ]
  },
  {
   "cell_type": "markdown",
   "metadata": {},
   "source": [
    "NLTK is the most used platform when working with human language data in Python. It provides more than 50 corpora and lexical resources. It also has libraries to classify, tokenize, and tag texts, among other functions.\n",
    "It is able to help us with our task of classifying words in verbs, nouns, adjectives. Together they are referred to as parts of speech. And the task of labeling them is called part-of-speech tagging, or POS-tagging."
   ]
  },
  {
   "cell_type": "markdown",
   "metadata": {},
   "source": [
    "Let's define a method that takes the text, tokenize it, label the tokens and returns the tuples. Each tuple consists of a word and its tag; the part of the speech that it corresponds to."
   ]
  },
  {
   "cell_type": "code",
   "execution_count": 4,
   "metadata": {},
   "outputs": [],
   "source": [
    "def preprocess_text(text):\n",
    "    \"\"\"\n",
    "    This function takes a text. Split it in tokens using word_tokenize. \n",
    "    And then tags them using pos_tag from NLTK module.\n",
    "    It outputs a list of tuples. Each tuple consists of a word and the tag with its \n",
    "    part of speech.\n",
    "    \"\"\"\n",
    "    # Get the tokens\n",
    "    tokens = nltk.word_tokenize(text)\n",
    "    # Tags the tokens\n",
    "    tagging = nltk.pos_tag(tokens)\n",
    "    # Returns the list of tuples\n",
    "    return tagging"
   ]
  },
  {
   "cell_type": "markdown",
   "metadata": {},
   "source": [
    "Now, we apply the method to the text."
   ]
  },
  {
   "cell_type": "code",
   "execution_count": 5,
   "metadata": {},
   "outputs": [],
   "source": [
    "# Split and label the text\n",
    "label_text = preprocess_text(wiki_nltk)"
   ]
  },
  {
   "cell_type": "markdown",
   "metadata": {},
   "source": [
    "And we print the first 20 tuples."
   ]
  },
  {
   "cell_type": "code",
   "execution_count": 82,
   "metadata": {},
   "outputs": [
    {
     "name": "stdout",
     "output_type": "stream",
     "text": [
      "('The', 'DT') ('Natural', 'NNP') ('Language', 'NNP') ('Toolkit', 'NNP') (',', ',')\n",
      "('or', 'CC') ('more', 'JJR') ('commonly', 'RB') ('NLTK', 'NNP') (',', ',')\n",
      "('is', 'VBZ') ('a', 'DT') ('suite', 'NN') ('of', 'IN') ('libraries', 'NNS')\n",
      "('and', 'CC') ('programs', 'NNS') ('for', 'IN') ('symbolic', 'JJ') ('and', 'CC')\n",
      "('statistical', 'JJ') ('natural', 'JJ') ('language', 'NN') ('processing', 'NN') ('(', '(')\n",
      "('NLP', 'NNP') (')', ')') ('for', 'IN') ('English', 'NNP') ('written', 'VBN')\n",
      "('in', 'IN') ('the', 'DT') ('Python', 'NNP') ('programming', 'NN') ('language', 'NN')\n",
      "('.', '.') ('It', 'PRP') ('was', 'VBD') ('developed', 'VBN') ('by', 'IN')\n"
     ]
    }
   ],
   "source": [
    "for i in range(0, 40, 5):\n",
    "    print(label_text[i], label_text[i+1], label_text[i+2], label_text[i+3], label_text[i+4])"
   ]
  },
  {
   "cell_type": "markdown",
   "metadata": {},
   "source": [
    "Let's decode some of the [tags](https://www.ling.upenn.edu/courses/Fall_2003/ling001/penn_treebank_pos.html). DT indicates that the word is a determiner. NN a Noun, singular. NNP a proper noun, singular. CC a coordinating conjunction. JJR an adjective, comparative. RB an adverb. IN a preposition."
   ]
  },
  {
   "cell_type": "markdown",
   "metadata": {},
   "source": [
    "How is that pos_tag is able to return all of these tags? \n",
    "It uses Probabilistic Methods. Particularly, Conditional Random Fields (CRF) and Hidden Markov Models.\n",
    "First, the model extracts a set of features of each word called State Features. It bases the decision on characteristics like capitalization of the first letter, presence of numbers or hyphen, suffixes, prefixes, among others. \n",
    "The model considers also the label of the previous word in a function called Transition Feature. It will determine the weights of different features functions to maximize the likelihood of the label."
   ]
  },
  {
   "cell_type": "markdown",
   "metadata": {},
   "source": [
    "The next step is to perform entity detection. This task will be carried out using a technique called chunking.\n",
    "Tokenization extracts only \"tokens\" or words. On the other hand, chunking extract phrases that may have an actual meaning in the text. \n",
    "Chunking requires that our text is first tokenized and POS tagged. It uses these tags as inputs. It outputs \"chunks\" that can indicate entities."
   ]
  },
  {
   "cell_type": "markdown",
   "metadata": {},
   "source": [
    "NLTK has several functions that facilitate the process of chunking our text. The mechanism is based on the use of regular expressions to generate the chunks. We can customize these regular expressions using RegexpParser and chunkParser.parse."
   ]
  },
  {
   "cell_type": "markdown",
   "metadata": {},
   "source": [
    "First, we need to indicate the rules on how sentences are going to be chuncked."
   ]
  },
  {
   "cell_type": "code",
   "execution_count": 130,
   "metadata": {},
   "outputs": [],
   "source": [
    "# Define the rules \n",
    "rule = \"NP: {<DT>?<JJ>*<NNP>+}\" "
   ]
  },
  {
   "cell_type": "markdown",
   "metadata": {},
   "source": [
    "Using this rule, we define a chunk parser."
   ]
  },
  {
   "cell_type": "code",
   "execution_count": 131,
   "metadata": {},
   "outputs": [],
   "source": [
    "# We define the parser using the rule\n",
    "parser = nltk.RegexpParser(rule) "
   ]
  },
  {
   "cell_type": "code",
   "execution_count": 132,
   "metadata": {},
   "outputs": [],
   "source": [
    "# Apply to the tagged words\n",
    "result = parser.parse(label_text) "
   ]
  },
  {
   "cell_type": "code",
   "execution_count": 133,
   "metadata": {},
   "outputs": [
    {
     "name": "stdout",
     "output_type": "stream",
     "text": [
      "(NP The/DT Natural/NNP Language/NNP Toolkit/NNP)\n",
      "(NP NLTK/NNP)\n",
      "(NP NLP/NNP)\n",
      "(NP English/NNP)\n",
      "(NP the/DT Python/NNP)\n",
      "(NP Steven/NNP Bird/NNP)\n",
      "(NP Edward/NNP Loper/NNP)\n",
      "(NP the/DT Department/NNP)\n",
      "(NP Computer/NNP)\n",
      "(NP Information/NNP Science/NNP)\n",
      "(NP the/DT University/NNP)\n",
      "(NP Pennsylvania/NNP)\n",
      "(NP ]/JJ NLTK/NNP)\n",
      "(NP ]/JJ NLTK/NNP)\n",
      "(NP NLP/NNP)\n",
      "(NP NLTK/NNP)\n",
      "(NP the/DT US/NNP)\n",
      "(NP NLTK/NNP)\n",
      "(NP NLTK/NNP)\n"
     ]
    }
   ],
   "source": [
    "# Print only the chunks\n",
    "for entity in result:\n",
    "    if type(entity) == nltk.tree.Tree:\n",
    "        print(entity)"
   ]
  },
  {
   "cell_type": "code",
   "execution_count": 135,
   "metadata": {},
   "outputs": [
    {
     "data": {
      "image/png": "[encoded data removed]",
      "text/plain": [
       "Tree('S', [Tree('NP', [('The', 'DT'), ('Natural', 'NNP'), ('Language', 'NNP'), ('Toolkit', 'NNP')]), (',', ','), ('or', 'CC'), ('more', 'JJR'), ('commonly', 'RB'), Tree('NP', [('NLTK', 'NNP')]), (',', ','), ('is', 'VBZ'), ('a', 'DT'), ('suite', 'NN'), ('of', 'IN'), ('libraries', 'NNS'), ('and', 'CC'), ('programs', 'NNS'), ('for', 'IN'), ('symbolic', 'JJ'), ('and', 'CC'), ('statistical', 'JJ'), ('natural', 'JJ'), ('language', 'NN'), ('processing', 'NN'), ('(', '('), Tree('NP', [('NLP', 'NNP')]), (')', ')'), ('for', 'IN'), Tree('NP', [('English', 'NNP')]), ('written', 'VBN'), ('in', 'IN'), Tree('NP', [('the', 'DT'), ('Python', 'NNP')]), ('programming', 'NN'), ('language', 'NN'), ('.', '.'), ('It', 'PRP'), ('was', 'VBD'), ('developed', 'VBN'), ('by', 'IN'), Tree('NP', [('Steven', 'NNP'), ('Bird', 'NNP')]), ('and', 'CC'), Tree('NP', [('Edward', 'NNP'), ('Loper', 'NNP')]), ('in', 'IN'), Tree('NP', [('the', 'DT'), ('Department', 'NNP')]), ('of', 'IN'), Tree('NP', [('Computer', 'NNP')]), ('and', 'CC'), Tree('NP', [('Information', 'NNP'), ('Science', 'NNP')]), ('at', 'IN'), Tree('NP', [('the', 'DT'), ('University', 'NNP')]), ('of', 'IN'), Tree('NP', [('Pennsylvania', 'NNP')]), ('.', '.'), ('[', 'CC'), ('5', 'CD'), Tree('NP', [(']', 'JJ'), ('NLTK', 'NNP')]), ('includes', 'VBZ'), ('graphical', 'JJ'), ('demonstrations', 'NNS'), ('and', 'CC'), ('sample', 'JJ'), ('data', 'NNS'), ('.', '.'), ('It', 'PRP'), ('is', 'VBZ'), ('accompanied', 'VBN'), ('by', 'IN'), ('a', 'DT'), ('book', 'NN'), ('that', 'WDT'), ('explains', 'VBZ'), ('the', 'DT'), ('underlying', 'JJ'), ('concepts', 'NNS'), ('behind', 'IN'), ('the', 'DT'), ('language', 'NN'), ('processing', 'NN'), ('tasks', 'NNS'), ('supported', 'VBN'), ('by', 'IN'), ('the', 'DT'), ('toolkit', 'NN'), (',', ','), ('[', 'VBZ'), ('6', 'CD'), (']', 'NN'), ('plus', 'CC'), ('a', 'DT'), ('cookbook', 'NN'), ('.', '.'), ('[', 'CC'), ('7', 'CD'), Tree('NP', [(']', 'JJ'), ('NLTK', 'NNP')]), ('is', 'VBZ'), ('intended', 'VBN'), ('to', 'TO'), ('support', 'VB'), ('research', 'NN'), ('and', 'CC'), ('teaching', 'NN'), ('in', 'IN'), Tree('NP', [('NLP', 'NNP')]), ('or', 'CC'), ('closely', 'RB'), ('related', 'JJ'), ('areas', 'NNS'), (',', ','), ('including', 'VBG'), ('empirical', 'JJ'), ('linguistics', 'NNS'), (',', ','), ('cognitive', 'JJ'), ('science', 'NN'), (',', ','), ('artificial', 'JJ'), ('intelligence', 'NN'), (',', ','), ('information', 'NN'), ('retrieval', 'NN'), (',', ','), ('and', 'CC'), ('machine', 'NN'), ('learning', 'NN'), ('.', '.'), ('[', 'CC'), ('8', 'CD'), (']', 'NN'), Tree('NP', [('NLTK', 'NNP')]), ('has', 'VBZ'), ('been', 'VBN'), ('used', 'VBN'), ('successfully', 'RB'), ('as', 'IN'), ('a', 'DT'), ('teaching', 'NN'), ('tool', 'NN'), (',', ','), ('as', 'IN'), ('an', 'DT'), ('individual', 'NN'), ('study', 'NN'), ('tool', 'NN'), (',', ','), ('and', 'CC'), ('as', 'IN'), ('a', 'DT'), ('platform', 'NN'), ('for', 'IN'), ('prototyping', 'VBG'), ('and', 'CC'), ('building', 'NN'), ('research', 'NN'), ('systems', 'NNS'), ('.', '.'), ('There', 'EX'), ('are', 'VBP'), ('32', 'CD'), ('universities', 'NNS'), ('in', 'IN'), Tree('NP', [('the', 'DT'), ('US', 'NNP')]), ('and', 'CC'), ('25', 'CD'), ('countries', 'NNS'), ('using', 'VBG'), Tree('NP', [('NLTK', 'NNP')]), ('in', 'IN'), ('their', 'PRP$'), ('courses', 'NNS'), ('.', '.'), Tree('NP', [('NLTK', 'NNP')]), ('supports', 'VBZ'), ('classification', 'NN'), (',', ','), ('tokenization', 'NN'), (',', ','), ('stemming', 'VBG'), (',', ','), ('tagging', 'VBG'), (',', ','), ('parsing', 'NN'), (',', ','), ('and', 'CC'), ('semantic', 'JJ'), ('reasoning', 'NN'), ('functionalities', 'NNS'), ('.', '.'), ('[', '$'), ('9', 'CD'), (']', 'NN')])"
      ]
     },
     "execution_count": 135,
     "metadata": {},
     "output_type": "execute_result"
    }
   ],
   "source": [
    "result"
   ]
  },
  {
   "cell_type": "code",
   "execution_count": null,
   "metadata": {},
   "outputs": [],
   "source": []
  },
  {
   "cell_type": "code",
   "execution_count": null,
   "metadata": {},
   "outputs": [],
   "source": []
  },
  {
   "cell_type": "code",
   "execution_count": 7,
   "metadata": {},
   "outputs": [],
   "source": [
    "named_entities = nltk.chunk.ne_chunk(label_text)"
   ]
  },
  {
   "cell_type": "code",
   "execution_count": 8,
   "metadata": {},
   "outputs": [
    {
     "name": "stdout",
     "output_type": "stream",
     "text": [
      "(ORGANIZATION Natural/NNP Language/NNP Toolkit/NNP)\n",
      "(ORGANIZATION NLTK/NNP)\n",
      "(ORGANIZATION NLP/NNP)\n",
      "(GPE English/NNP)\n",
      "(GPE Python/NNP)\n",
      "(PERSON Steven/NNP Bird/NNP)\n",
      "(PERSON Edward/NNP Loper/NNP)\n",
      "(ORGANIZATION Department/NNP)\n",
      "(ORGANIZATION Computer/NNP)\n",
      "(ORGANIZATION Information/NNP Science/NNP)\n",
      "(ORGANIZATION University/NNP)\n",
      "(GPE Pennsylvania/NNP)\n",
      "(ORGANIZATION NLTK/NNP)\n",
      "(ORGANIZATION NLTK/NNP)\n",
      "(ORGANIZATION NLP/NNP)\n",
      "(ORGANIZATION NLTK/NNP)\n",
      "(ORGANIZATION US/NNP)\n",
      "(ORGANIZATION NLTK/NNP)\n",
      "(ORGANIZATION NLTK/NNP)\n"
     ]
    }
   ],
   "source": [
    "for entity in named_entities:\n",
    "    if type(entity) == nltk.tree.Tree:\n",
    "        print(entity)"
   ]
  },
  {
   "cell_type": "code",
   "execution_count": null,
   "metadata": {},
   "outputs": [],
   "source": []
  },
  {
   "cell_type": "code",
   "execution_count": null,
   "metadata": {},
   "outputs": [],
   "source": []
  },
  {
   "cell_type": "code",
   "execution_count": null,
   "metadata": {},
   "outputs": [],
   "source": []
  },
  {
   "cell_type": "code",
   "execution_count": null,
   "metadata": {},
   "outputs": [],
   "source": []
  },
  {
   "cell_type": "markdown",
   "metadata": {},
   "source": [
    "### SpaCy in action"
   ]
  },
  {
   "cell_type": "markdown",
   "metadata": {},
   "source": [
    "[SpaCy](https://github.com/explosion/spaCy) is an open-source application-oriented library in Python. It provides a very efficient statistical system for NER by labeling groups of contiguous tokens. It is able to recognize a wide variety of named or numerical entities. Among them, we can find company-names, locations, product-names, and organizations."
   ]
  },
  {
   "cell_type": "code",
   "execution_count": 13,
   "metadata": {},
   "outputs": [],
   "source": [
    "nlp = spacy.load('en_core_web_sm')"
   ]
  },
  {
   "cell_type": "code",
   "execution_count": 66,
   "metadata": {},
   "outputs": [],
   "source": [
    " def get_entities(text):\n",
    "    tags = nlp(text)\n",
    "    entities = [X.text for X in tags.ents]\n",
    "    return entities, tags"
   ]
  },
  {
   "cell_type": "code",
   "execution_count": 67,
   "metadata": {},
   "outputs": [],
   "source": [
    "spacy_tags, sentences = get_entities(wiki_nltk)"
   ]
  },
  {
   "cell_type": "code",
   "execution_count": 71,
   "metadata": {},
   "outputs": [
    {
     "name": "stdout",
     "output_type": "stream",
     "text": [
      "NLTK\n",
      "NLP\n",
      "English\n",
      "Python\n",
      "Steven Bird\n",
      "Edward Loper\n",
      "the Department of Computer and Information Science\n",
      "the University of Pennsylvania.[5\n",
      "NLTK\n",
      "NLTK\n",
      "NLP\n",
      "32\n",
      "US\n",
      "25\n",
      "NLTK\n",
      "NLTK\n"
     ]
    }
   ],
   "source": [
    "for tag in spacy_tags:\n",
    "    print(tag)"
   ]
  },
  {
   "cell_type": "code",
   "execution_count": 45,
   "metadata": {},
   "outputs": [],
   "source": [
    "sentences_full = [x for x in sentences.sents]\n",
    "sentences_full = \"\".join(map(str, sentences_full))"
   ]
  },
  {
   "cell_type": "code",
   "execution_count": 46,
   "metadata": {},
   "outputs": [
    {
     "data": {
      "text/html": [
       "<div class=\"entities\" style=\"line-height: 2.5; direction: ltr\"> The Natural Language Toolkit, or more commonly \n",
       "<mark class=\"entity\" style=\"background: #7aecec; padding: 0.45em 0.6em; margin: 0 0.25em; line-height: 1; border-radius: 0.35em; box-decoration-break: clone; -webkit-box-decoration-break: clone\">\n",
       "    NLTK\n",
       "    <span style=\"font-size: 0.8em; font-weight: bold; line-height: 1; border-radius: 0.35em; text-transform: uppercase; vertical-align: middle; margin-left: 0.5rem\">ORG</span>\n",
       "</mark>\n",
       ", is a suite of libraries and programs for symbolic and statistical natural language processing (\n",
       "<mark class=\"entity\" style=\"background: #7aecec; padding: 0.45em 0.6em; margin: 0 0.25em; line-height: 1; border-radius: 0.35em; box-decoration-break: clone; -webkit-box-decoration-break: clone\">\n",
       "    NLP\n",
       "    <span style=\"font-size: 0.8em; font-weight: bold; line-height: 1; border-radius: 0.35em; text-transform: uppercase; vertical-align: middle; margin-left: 0.5rem\">ORG</span>\n",
       "</mark>\n",
       ") for \n",
       "<mark class=\"entity\" style=\"background: #ff8197; padding: 0.45em 0.6em; margin: 0 0.25em; line-height: 1; border-radius: 0.35em; box-decoration-break: clone; -webkit-box-decoration-break: clone\">\n",
       "    English\n",
       "    <span style=\"font-size: 0.8em; font-weight: bold; line-height: 1; border-radius: 0.35em; text-transform: uppercase; vertical-align: middle; margin-left: 0.5rem\">LANGUAGE</span>\n",
       "</mark>\n",
       " written in the \n",
       "<mark class=\"entity\" style=\"background: #feca74; padding: 0.45em 0.6em; margin: 0 0.25em; line-height: 1; border-radius: 0.35em; box-decoration-break: clone; -webkit-box-decoration-break: clone\">\n",
       "    Python\n",
       "    <span style=\"font-size: 0.8em; font-weight: bold; line-height: 1; border-radius: 0.35em; text-transform: uppercase; vertical-align: middle; margin-left: 0.5rem\">GPE</span>\n",
       "</mark>\n",
       " programming language.It was developed by \n",
       "<mark class=\"entity\" style=\"background: #aa9cfc; padding: 0.45em 0.6em; margin: 0 0.25em; line-height: 1; border-radius: 0.35em; box-decoration-break: clone; -webkit-box-decoration-break: clone\">\n",
       "    Steven Bird\n",
       "    <span style=\"font-size: 0.8em; font-weight: bold; line-height: 1; border-radius: 0.35em; text-transform: uppercase; vertical-align: middle; margin-left: 0.5rem\">PERSON</span>\n",
       "</mark>\n",
       " and \n",
       "<mark class=\"entity\" style=\"background: #aa9cfc; padding: 0.45em 0.6em; margin: 0 0.25em; line-height: 1; border-radius: 0.35em; box-decoration-break: clone; -webkit-box-decoration-break: clone\">\n",
       "    Edward Loper\n",
       "    <span style=\"font-size: 0.8em; font-weight: bold; line-height: 1; border-radius: 0.35em; text-transform: uppercase; vertical-align: middle; margin-left: 0.5rem\">PERSON</span>\n",
       "</mark>\n",
       " in \n",
       "<mark class=\"entity\" style=\"background: #7aecec; padding: 0.45em 0.6em; margin: 0 0.25em; line-height: 1; border-radius: 0.35em; box-decoration-break: clone; -webkit-box-decoration-break: clone\">\n",
       "    the Department of Computer and Information Science\n",
       "    <span style=\"font-size: 0.8em; font-weight: bold; line-height: 1; border-radius: 0.35em; text-transform: uppercase; vertical-align: middle; margin-left: 0.5rem\">ORG</span>\n",
       "</mark>\n",
       " atthe \n",
       "<mark class=\"entity\" style=\"background: #7aecec; padding: 0.45em 0.6em; margin: 0 0.25em; line-height: 1; border-radius: 0.35em; box-decoration-break: clone; -webkit-box-decoration-break: clone\">\n",
       "    University of Pennsylvania.[5\n",
       "    <span style=\"font-size: 0.8em; font-weight: bold; line-height: 1; border-radius: 0.35em; text-transform: uppercase; vertical-align: middle; margin-left: 0.5rem\">ORG</span>\n",
       "</mark>\n",
       "] \n",
       "<mark class=\"entity\" style=\"background: #7aecec; padding: 0.45em 0.6em; margin: 0 0.25em; line-height: 1; border-radius: 0.35em; box-decoration-break: clone; -webkit-box-decoration-break: clone\">\n",
       "    NLTK\n",
       "    <span style=\"font-size: 0.8em; font-weight: bold; line-height: 1; border-radius: 0.35em; text-transform: uppercase; vertical-align: middle; margin-left: 0.5rem\">ORG</span>\n",
       "</mark>\n",
       " includes graphical demonstrations and sample data.It is accompanied by a book that explains the underlying concepts behind the language processing tasks supported by the toolkit,[6] plus a cookbook.[7] \n",
       "<mark class=\"entity\" style=\"background: #7aecec; padding: 0.45em 0.6em; margin: 0 0.25em; line-height: 1; border-radius: 0.35em; box-decoration-break: clone; -webkit-box-decoration-break: clone\">\n",
       "    NLTK\n",
       "    <span style=\"font-size: 0.8em; font-weight: bold; line-height: 1; border-radius: 0.35em; text-transform: uppercase; vertical-align: middle; margin-left: 0.5rem\">ORG</span>\n",
       "</mark>\n",
       " is intended to support research and teaching in \n",
       "<mark class=\"entity\" style=\"background: #7aecec; padding: 0.45em 0.6em; margin: 0 0.25em; line-height: 1; border-radius: 0.35em; box-decoration-break: clone; -webkit-box-decoration-break: clone\">\n",
       "    NLP\n",
       "    <span style=\"font-size: 0.8em; font-weight: bold; line-height: 1; border-radius: 0.35em; text-transform: uppercase; vertical-align: middle; margin-left: 0.5rem\">ORG</span>\n",
       "</mark>\n",
       " or closely related areas, including empirical linguistics, cognitive science, artificial intelligence, information retrieval, and machine learning.[8]NLTK has been used successfully as a teaching tool, as an individual study tool, and as a platform for prototyping and building research systems.There are \n",
       "<mark class=\"entity\" style=\"background: #e4e7d2; padding: 0.45em 0.6em; margin: 0 0.25em; line-height: 1; border-radius: 0.35em; box-decoration-break: clone; -webkit-box-decoration-break: clone\">\n",
       "    32\n",
       "    <span style=\"font-size: 0.8em; font-weight: bold; line-height: 1; border-radius: 0.35em; text-transform: uppercase; vertical-align: middle; margin-left: 0.5rem\">CARDINAL</span>\n",
       "</mark>\n",
       " universities in the \n",
       "<mark class=\"entity\" style=\"background: #feca74; padding: 0.45em 0.6em; margin: 0 0.25em; line-height: 1; border-radius: 0.35em; box-decoration-break: clone; -webkit-box-decoration-break: clone\">\n",
       "    US\n",
       "    <span style=\"font-size: 0.8em; font-weight: bold; line-height: 1; border-radius: 0.35em; text-transform: uppercase; vertical-align: middle; margin-left: 0.5rem\">GPE</span>\n",
       "</mark>\n",
       " and \n",
       "<mark class=\"entity\" style=\"background: #e4e7d2; padding: 0.45em 0.6em; margin: 0 0.25em; line-height: 1; border-radius: 0.35em; box-decoration-break: clone; -webkit-box-decoration-break: clone\">\n",
       "    25\n",
       "    <span style=\"font-size: 0.8em; font-weight: bold; line-height: 1; border-radius: 0.35em; text-transform: uppercase; vertical-align: middle; margin-left: 0.5rem\">CARDINAL</span>\n",
       "</mark>\n",
       " countries using \n",
       "<mark class=\"entity\" style=\"background: #7aecec; padding: 0.45em 0.6em; margin: 0 0.25em; line-height: 1; border-radius: 0.35em; box-decoration-break: clone; -webkit-box-decoration-break: clone\">\n",
       "    NLTK\n",
       "    <span style=\"font-size: 0.8em; font-weight: bold; line-height: 1; border-radius: 0.35em; text-transform: uppercase; vertical-align: middle; margin-left: 0.5rem\">ORG</span>\n",
       "</mark>\n",
       " in their courses.\n",
       "<mark class=\"entity\" style=\"background: #7aecec; padding: 0.45em 0.6em; margin: 0 0.25em; line-height: 1; border-radius: 0.35em; box-decoration-break: clone; -webkit-box-decoration-break: clone\">\n",
       "    NLTK\n",
       "    <span style=\"font-size: 0.8em; font-weight: bold; line-height: 1; border-radius: 0.35em; text-transform: uppercase; vertical-align: middle; margin-left: 0.5rem\">ORG</span>\n",
       "</mark>\n",
       " supports classification, tokenization, stemming, tagging, parsing, and semantic reasoning functionalities.[9]</div>"
      ],
      "text/plain": [
       "<IPython.core.display.HTML object>"
      ]
     },
     "metadata": {},
     "output_type": "display_data"
    }
   ],
   "source": [
    "displacy.render(nlp(str(sentences_full)), jupyter=True, style='ent')"
   ]
  },
  {
   "cell_type": "code",
   "execution_count": null,
   "metadata": {},
   "outputs": [],
   "source": []
  }
 ],
 "metadata": {
  "kernelspec": {
   "display_name": "Python 3",
   "language": "python",
   "name": "python3"
  },
  "language_info": {
   "codemirror_mode": {
    "name": "ipython",
    "version": 3
   },
   "file_extension": ".py",
   "mimetype": "text/x-python",
   "name": "python",
   "nbconvert_exporter": "python",
   "pygments_lexer": "ipython3",
   "version": "3.6.6"
  }
 },
 "nbformat": 4,
 "nbformat_minor": 2
}
